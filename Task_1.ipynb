{
  "cells": [
    {
      "cell_type": "markdown",
      "metadata": {
        "id": "view-in-github",
        "colab_type": "text"
      },
      "source": [
        "<a href=\"https://colab.research.google.com/github/RomanIsaev163/HW-classification_doc/blob/master/Task_1.ipynb\" target=\"_parent\"><img src=\"https://colab.research.google.com/assets/colab-badge.svg\" alt=\"Open In Colab\"/></a>"
      ]
    },
    {
      "cell_type": "markdown",
      "metadata": {
        "id": "OBP-1a309aYE"
      },
      "source": [
        "# Задание 1.1\n",
        "\n",
        "[Свертка списка](https://ru.wikipedia.org/wiki/%D0%A1%D0%B2%D1%91%D1%80%D1%82%D0%BA%D0%B0_%D1%81%D0%BF%D0%B8%D1%81%D0%BA%D0%B0) -  это обобщенная операция над списком, c помощью которой можно преобразовать список в единое значение. Например, рассмотрим реализации свертки слева и свертки справа (левоассоциативную свертку и правоассоциативную свертку):"
      ]
    },
    {
      "cell_type": "code",
      "execution_count": 86,
      "metadata": {
        "collapsed": true,
        "jupyter": {
          "outputs_hidden": true
        },
        "id": "d3RTZaXZ9aYc"
      },
      "outputs": [],
      "source": [
        "def foldl(f, x0, lst):\n",
        "    if not lst:\n",
        "        return x0\n",
        "    return foldl(f, f(x0, lst[0]), lst[1:])\n",
        "\n",
        "def foldr(f, x0, lst):\n",
        "    if not lst:\n",
        "        return x0\n",
        "    return f(lst[0], foldr(f, x0, lst[1:]))"
      ]
    },
    {
      "cell_type": "code",
      "execution_count": null,
      "metadata": {
        "colab": {
          "base_uri": "https://localhost:8080/"
        },
        "id": "PBulpYAd9aYd",
        "outputId": "267c9670-44a3-49f4-919c-9d9e8ec2e5d7"
      },
      "outputs": [
        {
          "output_type": "execute_result",
          "data": {
            "text/plain": [
              "6"
            ]
          },
          "metadata": {},
          "execution_count": 2
        }
      ],
      "source": [
        "#сумма\n",
        "foldl(lambda x, y: x + y, 0, [1, 2, 3])"
      ]
    },
    {
      "cell_type": "code",
      "source": [
        "foldr(lambda x, y: x + y, 0, [1, 2, 3])"
      ],
      "metadata": {
        "colab": {
          "base_uri": "https://localhost:8080/"
        },
        "id": "6cRtYF4A_Yh3",
        "outputId": "fc109f95-cd16-4cd6-f847-ce01240287a3"
      },
      "execution_count": null,
      "outputs": [
        {
          "output_type": "execute_result",
          "data": {
            "text/plain": [
              "6"
            ]
          },
          "metadata": {},
          "execution_count": 5
        }
      ]
    },
    {
      "cell_type": "code",
      "execution_count": null,
      "metadata": {
        "colab": {
          "base_uri": "https://localhost:8080/",
          "height": 36
        },
        "id": "Ub7WO0yD9aYe",
        "outputId": "821ef37b-974e-49c9-afed-3cec8d927b69"
      },
      "outputs": [
        {
          "output_type": "execute_result",
          "data": {
            "text/plain": [
              "'123'"
            ],
            "application/vnd.google.colaboratory.intrinsic+json": {
              "type": "string"
            }
          },
          "metadata": {},
          "execution_count": 3
        }
      ],
      "source": [
        "#конкатенация\n",
        "foldl(lambda x, y: '{}{}'.format(x, y), '', [1, 2, 3])"
      ]
    },
    {
      "cell_type": "code",
      "source": [
        "foldr(lambda x, y: '{}{}'.format(x, y), '', [1, 2, 3])"
      ],
      "metadata": {
        "colab": {
          "base_uri": "https://localhost:8080/",
          "height": 36
        },
        "id": "93Mb2_Mi_bft",
        "outputId": "fe43e425-fbff-41b1-cefb-8ae1bf07a777"
      },
      "execution_count": null,
      "outputs": [
        {
          "output_type": "execute_result",
          "data": {
            "text/plain": [
              "'123'"
            ],
            "application/vnd.google.colaboratory.intrinsic+json": {
              "type": "string"
            }
          },
          "metadata": {},
          "execution_count": 6
        }
      ]
    },
    {
      "cell_type": "code",
      "execution_count": null,
      "metadata": {
        "colab": {
          "base_uri": "https://localhost:8080/"
        },
        "id": "Fpjvv2tf9aYf",
        "outputId": "29fa4bd3-fbde-4d7e-9818-1cc94ec681d3"
      },
      "outputs": [
        {
          "output_type": "execute_result",
          "data": {
            "text/plain": [
              "(0.16666666666666666, 1.5)"
            ]
          },
          "metadata": {},
          "execution_count": 4
        }
      ],
      "source": [
        "f = lambda x, y: x / y\n",
        "#1/1 => 1/2 => 1/2 / 3\n",
        "foldl(f, 1, [1, 2, 3]), \\\n",
        "foldr(f, 1, [1, 2, 3])\n",
        "#"
      ]
    },
    {
      "cell_type": "markdown",
      "metadata": {
        "id": "gNjVt-9b9aYf"
      },
      "source": [
        "Задача: реализовать foldl через foldr и наоборот. Вместо многоточий нужно вставить выражения, которые бы привели к нужному результату. Модифицировать сам список нельзя. "
      ]
    },
    {
      "cell_type": "code",
      "execution_count": 88,
      "metadata": {
        "collapsed": true,
        "jupyter": {
          "outputs_hidden": true
        },
        "id": "vgpFjpz09aYg"
      },
      "outputs": [],
      "source": [
        "def foldl2(f, x0, lst):\n",
        "    return foldr(lambda *a: f(*reversed(a)), x0, lst[::-1])"
      ]
    },
    {
      "cell_type": "code",
      "execution_count": 89,
      "metadata": {
        "collapsed": true,
        "jupyter": {
          "outputs_hidden": true
        },
        "id": "TKoWPFQ99aYg"
      },
      "outputs": [],
      "source": [
        "def foldr2(f, x0, lst):\n",
        "  return foldl(lambda *a: f(*reversed(a)), x0, lst[::-1])"
      ]
    },
    {
      "cell_type": "markdown",
      "metadata": {
        "id": "Znr_LEAr9aYh"
      },
      "source": [
        "# Задание 1.2\n",
        "\n",
        "нужно написать функцию, которая принимает две строки и проверяет, входит ли хотя бы одна перестановка второй строки в первую. Например:\n",
        "\n",
        "> a = 'abcrotm'\n",
        "> \n",
        "> b = 'tro'\n",
        "\n",
        "функция def check_inv(a, b) вернет True, так как 'rot' содержится в 'abcrotm'. Нужно подумать как можно более оптимальный алгоритм и оценить его сложность. "
      ]
    },
    {
      "cell_type": "code",
      "execution_count": 84,
      "metadata": {
        "jupyter": {
          "outputs_hidden": true
        },
        "colab": {
          "base_uri": "https://localhost:8080/"
        },
        "id": "oGbRKUWH9aYh",
        "outputId": "0143f7d0-01b5-4cec-9282-2495858f56a2"
      },
      "outputs": [
        {
          "output_type": "execute_result",
          "data": {
            "text/plain": [
              "False"
            ]
          },
          "metadata": {},
          "execution_count": 84
        }
      ],
      "source": [
        "from collections import Counter\n",
        "def check_inv(a, b):\n",
        "  def is_zeros_dict(cdict):\n",
        "    return all(list(map(lambda x: not bool(x), cdict.values())))\n",
        "\n",
        "  counted_b = Counter(b)\n",
        "  count_b = counted_b.copy()\n",
        "\n",
        "  for i in a:\n",
        "    if i in count_b.keys() and count_b[i]!= 0:\n",
        "        count_b[i] -= 1\n",
        "    else:\n",
        "        if is_zeros_dict(count_b):\n",
        "            return True\n",
        "        else:\n",
        "            count_b = counted_b.copy() #обновления словаря (встретили букву не содержащуюся/закончившуюся  в count_b). Cлитное написание слова из букв b в a\n",
        "            if i in count_b.keys():\n",
        "                count_b[i] -= 1\n",
        "  return is_zeros_dict(count_b)\n",
        "a = 'aabcrot' + 'maa'\n",
        "b = 'aamс'\n",
        "check_inv(a,b)"
      ]
    },
    {
      "cell_type": "markdown",
      "metadata": {
        "id": "UDL96ibZ9aYh"
      },
      "source": [
        "# Задание 1.3\n",
        "\n",
        "Реализовать бинарное дерево (класс Tree), в нём методы __repr__, __str__, __iter__ (итерация только по листьям)."
      ]
    },
    {
      "cell_type": "code",
      "execution_count": 24,
      "metadata": {
        "colab": {
          "base_uri": "https://localhost:8080/",
          "height": 36
        },
        "id": "PfVznjXj9aYi",
        "outputId": "3f557f50-8afc-4ff5-855b-992b3e1f45b3"
      },
      "outputs": [
        {
          "output_type": "execute_result",
          "data": {
            "text/plain": [
              "'Tree(0,Tree(1,Tree(3), Tree(4)), Tree(2))'"
            ],
            "application/vnd.google.colaboratory.intrinsic+json": {
              "type": "string"
            }
          },
          "metadata": {},
          "execution_count": 24
        }
      ],
      "source": [
        "class Tree:\n",
        "\n",
        "    def __init__(self, value=None, left=None, right=None):\n",
        "        self.left = left\n",
        "        self.right = right\n",
        "        self.value = value\n",
        "        \n",
        "    def __iter__(self):\n",
        "      if not self.left and not self.right:\n",
        "          yield self.value\n",
        "      if self.left:\n",
        "          yield from self.left\n",
        "      if self.right:\n",
        "          yield from self.right\n",
        "    \n",
        "    def __str__(self):\n",
        "\n",
        "      def prchild(self):\n",
        "        if self.left != None and self.right != None:\n",
        "          str_temp = str(self.value) + ' (' + prchild(self.left) + ', ' + prchild(self.right) + ')'\n",
        "        elif self.left != None:\n",
        "          str_temp = str(self.value) + ' (' +  prchild(self.left) + ')'\n",
        "        elif self.right != None:\n",
        "          str_temp = str(self.value) + ' (' + prchild(self.right) + ')'\n",
        "        else:\n",
        "          str_temp = str(self.value)\n",
        "        return str_temp\n",
        "\n",
        "      return str(self.value)+' ('+prchild(self.left)+', '+prchild(self.right)+')'\n",
        "    \n",
        "    def __repr__(self):\n",
        "\n",
        "      def prchild(self):\n",
        "        if self.left != None and self.right != None:\n",
        "          str_temp = self.__class__.__name__ + '(' + str(self.value) + ',' + prchild(self.left) + ', ' + prchild(self.right) + ')'\n",
        "        elif self.left != None:\n",
        "          str_temp = str(self.value) + ' (' +  prchild(self.left) + ')'\n",
        "        elif self.right != None:\n",
        "          str_temp = str(self.value) + ' (' + prchild(self.right) + ')'\n",
        "        else:\n",
        "          str_temp = self.__class__.__name__ + '(' + str(self.value) + ')'\n",
        "        return str_temp\n",
        "      return prchild(self)\n",
        "\n",
        "    \n",
        "tree = Tree(0, Tree(1, Tree(3), Tree(4)),                             \n",
        "               Tree(2))\n",
        "str(tree)\n",
        "list(tree) == [3, 4, 2]\n",
        "tree.__repr__()"
      ]
    },
    {
      "cell_type": "markdown",
      "metadata": {
        "id": "Y1INwhp19aYi"
      },
      "source": [
        "# Задание 1.4\n",
        "\n",
        "Реализовать простейший калькулятор математических выражений:\n",
        "- только целые числа\n",
        "- **+**, **\\-**, **\\***, **\\**\n",
        "- скобки\n",
        "\n",
        "**Можно использовать регулярные выражения**"
      ]
    },
    {
      "cell_type": "code",
      "execution_count": null,
      "metadata": {
        "id": "PJJ5Bdov9aYj"
      },
      "outputs": [],
      "source": [
        "def calc(expr):\n",
        "    pass\n",
        "\n",
        "calc('2 * (15 - 3 * 4) - 2') == 4"
      ]
    },
    {
      "cell_type": "code",
      "source": [
        "import re"
      ],
      "metadata": {
        "id": "ggIJJGlX12MC"
      },
      "execution_count": 5,
      "outputs": []
    },
    {
      "cell_type": "code",
      "execution_count": 13,
      "metadata": {
        "id": "HhD8MR9m9aYj",
        "colab": {
          "base_uri": "https://localhost:8080/"
        },
        "outputId": "92369f4b-be64-47fc-cb14-ae3e1589e025"
      },
      "outputs": [
        {
          "output_type": "execute_result",
          "data": {
            "text/plain": [
              "4"
            ]
          },
          "metadata": {},
          "execution_count": 13
        }
      ],
      "source": [
        "string  = '2 * (15 - 3 * 4) - 2'\n",
        "eval(string)"
      ]
    }
  ],
  "metadata": {
    "kernelspec": {
      "display_name": "Python 3.10.4 64-bit",
      "language": "python",
      "name": "python3"
    },
    "language_info": {
      "codemirror_mode": {
        "name": "ipython",
        "version": 3
      },
      "file_extension": ".py",
      "mimetype": "text/x-python",
      "name": "python",
      "nbconvert_exporter": "python",
      "pygments_lexer": "ipython3",
      "version": "3.10.4"
    },
    "vscode": {
      "interpreter": {
        "hash": "916dbcbb3f70747c44a77c7bcd40155683ae19c65e1c03b4aa3499c5328201f1"
      }
    },
    "colab": {
      "provenance": [],
      "collapsed_sections": [],
      "include_colab_link": true
    }
  },
  "nbformat": 4,
  "nbformat_minor": 0
}